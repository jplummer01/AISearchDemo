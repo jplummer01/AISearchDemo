{
 "cells": [
  {
   "cell_type": "code",
   "execution_count": 1,
   "metadata": {},
   "outputs": [],
   "source": [
    "from dotenv import load_dotenv\n",
    "from azure.core.credentials import AzureKeyCredential\n",
    "import os\n",
    "\n",
    "load_dotenv()\n",
    "\n",
    "\n",
    "AISEARCH_API_VERSION = os.getenv(\"COGSEARCH-API-VERSION\")\n",
    "AISEARCH_ENDPOINT = os.getenv(\"COGSEARCH-ENDPOINT\")\n",
    "AISEARCH_API_KEY = os.getenv(\"COGSEARCH-API-KEY\")\n",
    "AISEARCH_INDEX = os.getenv(\"COGSEARCH-INDEX\")\n",
    "AZURE_OPENAI_KEY = os.getenv(\"AZURE_OPENAI-KEY\")\n",
    "AZURE_OPENAI_ENDPOINT = os.getenv(\"AZURE_OPENAI-ENDPOINT\")\n",
    "AZURE_OPENAI_RESOURCE_NAME = os.getenv(\"AZURE_OPENAI-RESOURCE-NAME\")\n",
    "EMBEDDING_RESOURCE = os.getenv(\"EMBEDDING-RESOURCE\")\n",
    "\n",
    "credential = AzureKeyCredential(AISEARCH_API_KEY) \n"
   ]
  },
  {
   "cell_type": "code",
   "execution_count": 2,
   "metadata": {},
   "outputs": [
    {
     "data": {
      "text/plain": [
       "<azure.search.documents.indexes.models._index.SearchIndex at 0x7f16e0dda3f0>"
      ]
     },
     "execution_count": 2,
     "metadata": {},
     "output_type": "execute_result"
    }
   ],
   "source": [
    "from azure.search.documents.indexes import SearchIndexClient\n",
    "from azure.search.documents.indexes.models import *\n",
    "\n",
    "\n",
    "\n",
    "\n",
    "index = SearchIndex(\n",
    "    name = AISEARCH_INDEX,\n",
    "    fields=[\n",
    "        SimpleField(name=\"id\", type=SearchFieldDataType.String, key=True),\n",
    "        SimpleField(name=\"category\", type=SearchFieldDataType.String, filterable=True),\n",
    "        SearchField(name=\"myvector\", \n",
    "                    type=SearchFieldDataType.Collection(SearchFieldDataType.Single),\n",
    "                    searchable=True,\n",
    "                    vector_search_dimensions=3,\n",
    "                    vector_search_profile_name=\"vprofile\")\n",
    "    ],\n",
    "    vector_search=VectorSearch(\n",
    "        algorithms=[HnswAlgorithmConfiguration(name=\"algo\",\n",
    "                                               parameters=HnswParameters(metric=\"cosine\"))],\n",
    "        profiles=[VectorSearchProfile(name=\"vprofile\", algorithm_configuration_name=\"algo\")]\n",
    "    )\n",
    ")\n",
    "\n",
    "index_client = SearchIndexClient(AISEARCH_ENDPOINT, credential=credential)\n",
    "index_client.create_or_update_index(index)\n"
   ]
  },
  {
   "cell_type": "code",
   "execution_count": 18,
   "metadata": {},
   "outputs": [],
   "source": [
    "from azure.search.documents import SearchClient\n",
    "from azure.search.documents.models import VectorFilterMode, VectorizedQuery\n",
    "\n",
    "search_client = SearchClient(AISEARCH_ENDPOINT, AISEARCH_INDEX, credential)\n",
    "\n"
   ]
  },
  {
   "cell_type": "markdown",
   "metadata": {},
   "source": [
    "Add a Few Documents"
   ]
  },
  {
   "cell_type": "code",
   "execution_count": null,
   "metadata": {},
   "outputs": [],
   "source": [
    "search_client.upload_documents(documents=[\n",
    "    {\"id\":  \"1\",    \"myvector\": [1, 2, 3],    \"category\": \"A\" },\n",
    "    {\"id\":  \"2\",    \"myvector\": [1, 1, 3],    \"category\": \"A\" },\n",
    "    {\"id\":  \"3\",    \"myvector\": [4, 5, 6],    \"category\": \"B\" }\n",
    "\n",
    "])"
   ]
  },
  {
   "cell_type": "code",
   "execution_count": null,
   "metadata": {},
   "outputs": [],
   "source": [
    "q = [1, 3, 2]\n",
    "\n",
    "\n",
    "\n",
    "\n",
    "r = search_client.search(None, vector_queries=[VectorizedQuery(vector=q, k=2, fields=\"myvector\")])\n",
    "\n",
    "for doc in r:\n",
    "    print(f\"id: {doc['id']}, score: {doc['@search.score']}, cat: {doc['category']}\")"
   ]
  }
 ],
 "metadata": {
  "kernelspec": {
   "display_name": ".venv",
   "language": "python",
   "name": "python3"
  },
  "language_info": {
   "codemirror_mode": {
    "name": "ipython",
    "version": 3
   },
   "file_extension": ".py",
   "mimetype": "text/x-python",
   "name": "python",
   "nbconvert_exporter": "python",
   "pygments_lexer": "ipython3",
   "version": "3.12.3"
  }
 },
 "nbformat": 4,
 "nbformat_minor": 2
}
